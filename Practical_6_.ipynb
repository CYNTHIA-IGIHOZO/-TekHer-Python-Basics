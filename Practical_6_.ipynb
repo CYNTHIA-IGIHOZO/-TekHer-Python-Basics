{
 "cells": [
  {
   "cell_type": "markdown",
   "id": "bd6f6199",
   "metadata": {},
   "source": [
    "# Practical_6: Numpy"
   ]
  },
  {
   "cell_type": "markdown",
   "id": "de325ed6",
   "metadata": {},
   "source": [
    "---\n",
    "\n",
    "### Exercise 1:\n",
    "Create a NumPy array of integers from 1 to 10.\n"
   ]
  },
  {
   "cell_type": "code",
   "execution_count": 2,
   "id": "9b904697",
   "metadata": {},
   "outputs": [],
   "source": [
    "import numpy as np"
   ]
  },
  {
   "cell_type": "code",
   "execution_count": 2,
   "id": "f052d866-a89a-46b6-a3f3-889cdf31f06f",
   "metadata": {},
   "outputs": [
    {
     "name": "stdout",
     "output_type": "stream",
     "text": [
      "[ 1  2  3  4  5  6  7  8  9 10]\n"
     ]
    }
   ],
   "source": [
    "# Exercise 1\n",
    "arr = np.arange(1, 11)\n",
    "print(arr)"
   ]
  },
  {
   "cell_type": "markdown",
   "id": "745710c7",
   "metadata": {},
   "source": [
    "\n",
    "---\n",
    "\n",
    "### Exercise 2:\n",
    "Create a 3x3 NumPy array filled with zeros.\n"
   ]
  },
  {
   "cell_type": "code",
   "execution_count": 5,
   "id": "875235f1",
   "metadata": {},
   "outputs": [
    {
     "name": "stdout",
     "output_type": "stream",
     "text": [
      "[[0. 0. 0.]\n",
      " [0. 0. 0.]\n",
      " [0. 0. 0.]]\n"
     ]
    }
   ],
   "source": [
    "# Exercise 2\n",
    "zeros_array = np.zeros((3, 3))\n",
    "print(zeros_array)"
   ]
  },
  {
   "cell_type": "markdown",
   "id": "a542ea80",
   "metadata": {},
   "source": [
    "\n",
    "---\n",
    "\n",
    "### Exercise 3:\n",
    "Create a NumPy array of 10 evenly spaced numbers between 0 and 5.\n"
   ]
  },
  {
   "cell_type": "code",
   "execution_count": 10,
   "id": "97c6ba4a",
   "metadata": {},
   "outputs": [
    {
     "data": {
      "text/plain": [
       "array([0.        , 0.55555556, 1.11111111, 1.66666667, 2.22222222,\n",
       "       2.77777778, 3.33333333, 3.88888889, 4.44444444, 5.        ])"
      ]
     },
     "execution_count": 10,
     "metadata": {},
     "output_type": "execute_result"
    }
   ],
   "source": [
    "# Exercise 3\n",
    "nj=np.linspace(0,5,10)\n",
    "nj"
   ]
  },
  {
   "cell_type": "markdown",
   "id": "e92d80cc",
   "metadata": {},
   "source": [
    "\n",
    "---\n",
    "\n",
    "### Exercise 4:\n",
    "Create a 5x5 identity matrix using NumPy.\n"
   ]
  },
  {
   "cell_type": "code",
   "execution_count": 8,
   "id": "c5213bd2",
   "metadata": {},
   "outputs": [
    {
     "data": {
      "text/plain": [
       "array([[1., 0., 0., 0., 0.],\n",
       "       [0., 1., 0., 0., 0.],\n",
       "       [0., 0., 1., 0., 0.],\n",
       "       [0., 0., 0., 1., 0.],\n",
       "       [0., 0., 0., 0., 1.]])"
      ]
     },
     "execution_count": 8,
     "metadata": {},
     "output_type": "execute_result"
    }
   ],
   "source": [
    "# Exercise 4\n",
    "matrix=np.eye(5,5)\n",
    "matrix"
   ]
  },
  {
   "cell_type": "markdown",
   "id": "a16f88e7",
   "metadata": {},
   "source": [
    "\n",
    "---\n",
    "\n",
    "### Exercise 5:\n",
    "Create a 4x4 matrix with random values between 0 and 1.\n"
   ]
  },
  {
   "cell_type": "code",
   "execution_count": 18,
   "id": "2b16922b",
   "metadata": {},
   "outputs": [
    {
     "name": "stdout",
     "output_type": "stream",
     "text": [
      "[[0.48584978 0.59268173 0.18346799 0.28490454]\n",
      " [0.1884651  0.83672139 0.25971076 0.41326795]\n",
      " [0.3977896  0.21439634 0.05946878 0.88471468]\n",
      " [0.01575452 0.82352451 0.00981402 0.33090292]]\n"
     ]
    }
   ],
   "source": [
    "# Exercise 5\n",
    "random_matrix = np.random.rand(4, 4)\n",
    "print(random_matrix)"
   ]
  },
  {
   "cell_type": "markdown",
   "id": "cc9af8fd",
   "metadata": {},
   "source": [
    "\n",
    "---\n",
    "\n",
    "### Exercise 6:\n",
    "Find the shape of a NumPy array.\n"
   ]
  },
  {
   "cell_type": "code",
   "execution_count": 19,
   "id": "359864d2",
   "metadata": {},
   "outputs": [
    {
     "data": {
      "text/plain": [
       "(4, 4)"
      ]
     },
     "execution_count": 19,
     "metadata": {},
     "output_type": "execute_result"
    }
   ],
   "source": [
    "# Exercise 6\n",
    "shape_of=np.shape(random_matrix)\n",
    "shape_of"
   ]
  },
  {
   "cell_type": "markdown",
   "id": "ada0aff6",
   "metadata": {},
   "source": [
    "\n",
    "---\n",
    "\n",
    "### Exercise 7:\n",
    "Reshape a 1D NumPy array of 16 elements into a 4x4 matrix.\n"
   ]
  },
  {
   "cell_type": "code",
   "execution_count": 23,
   "id": "43fcb4b3",
   "metadata": {},
   "outputs": [
    {
     "data": {
      "text/plain": [
       "array([[ 0,  1,  2,  3],\n",
       "       [ 4,  5,  6,  7],\n",
       "       [ 8,  9, 10, 11],\n",
       "       [12, 13, 14, 15]])"
      ]
     },
     "execution_count": 23,
     "metadata": {},
     "output_type": "execute_result"
    }
   ],
   "source": [
    "# Exercise 7\n",
    "grid=np.arange(16).reshape((4,4))\n",
    "grid"
   ]
  },
  {
   "cell_type": "markdown",
   "id": "d384142a",
   "metadata": {},
   "source": [
    "\n",
    "---\n",
    "\n",
    "### Exercise 8:\n",
    "Find the data type of the elements in a NumPy array.\n"
   ]
  },
  {
   "cell_type": "code",
   "execution_count": 26,
   "id": "bf4dca5a",
   "metadata": {},
   "outputs": [
    {
     "data": {
      "text/plain": [
       "numpy.ndarray"
      ]
     },
     "execution_count": 26,
     "metadata": {},
     "output_type": "execute_result"
    }
   ],
   "source": [
    "# Exercise 8\n",
    "type(grid)"
   ]
  },
  {
   "cell_type": "markdown",
   "id": "c295ca54",
   "metadata": {},
   "source": [
    "\n",
    "---\n",
    "\n",
    "### Exercise 9:\n",
    "Create a NumPy array of integers from 1 to 100 and find all even numbers in the array.\n"
   ]
  },
  {
   "cell_type": "code",
   "execution_count": 44,
   "id": "28a61c5e",
   "metadata": {},
   "outputs": [
    {
     "name": "stdout",
     "output_type": "stream",
     "text": [
      "[  2   4   6   8  10  12  14  16  18  20  22  24  26  28  30  32  34  36\n",
      "  38  40  42  44  46  48  50  52  54  56  58  60  62  64  66  68  70  72\n",
      "  74  76  78  80  82  84  86  88  90  92  94  96  98 100]\n"
     ]
    }
   ],
   "source": [
    "# Exercise 9\n",
    "array = np.arange(1, 101)\n",
    "even_numbers = array[array % 2 == 0]\n",
    "\n",
    "print(even_numbers)"
   ]
  },
  {
   "cell_type": "markdown",
   "id": "72103956",
   "metadata": {},
   "source": [
    "\n",
    "---\n",
    "\n",
    "### Exercise 10:\n",
    "Generate a 6x6 matrix of random integers between 10 and 50.\n"
   ]
  },
  {
   "cell_type": "code",
   "execution_count": 53,
   "id": "ce04300e",
   "metadata": {},
   "outputs": [
    {
     "name": "stdout",
     "output_type": "stream",
     "text": [
      "[[31 35 23 24 36 21]\n",
      " [25 13 13 45 19 13]\n",
      " [16 29 35 43 24 27]\n",
      " [27 17 40 45 34 20]\n",
      " [41 43 35 44 21 42]\n",
      " [15 48 29 30 35 30]]\n"
     ]
    }
   ],
   "source": [
    "# Exercise 10\n",
    "random_matrix = np.random.randint(10, 51, size=(6, 6))\n",
    "print(random_matrix)"
   ]
  },
  {
   "cell_type": "markdown",
   "id": "3dd1a085",
   "metadata": {},
   "source": [
    "\n",
    "---\n",
    "\n",
    "### Exercise 11:\n",
    "Slice a 2D NumPy array to extract a submatrix.\n"
   ]
  },
  {
   "cell_type": "code",
   "execution_count": 52,
   "id": "b8fc90ba",
   "metadata": {},
   "outputs": [
    {
     "data": {
      "text/plain": [
       "[3, 5, 4, 7]"
      ]
     },
     "execution_count": 52,
     "metadata": {},
     "output_type": "execute_result"
    }
   ],
   "source": [
    "# Exercise 11\n",
    "_arr=[[1,2,3,4,3,5,4,7]]\n",
    "_arr[0][4:]"
   ]
  },
  {
   "cell_type": "markdown",
   "id": "73a4344c",
   "metadata": {},
   "source": [
    "\n",
    "---\n",
    "\n",
    "### Exercise 12:\n",
    "Calculate the sum of all elements in a NumPy array.\n"
   ]
  },
  {
   "cell_type": "code",
   "execution_count": 54,
   "id": "3c417ff3",
   "metadata": {},
   "outputs": [
    {
     "name": "stdout",
     "output_type": "stream",
     "text": [
      "21\n"
     ]
    }
   ],
   "source": [
    "# Exercise 12\n",
    "array = np.array([[1, 2, 3],\n",
    "                  [4, 5, 6]])\n",
    "total = array.sum()\n",
    "print(total)"
   ]
  },
  {
   "cell_type": "markdown",
   "id": "c2346362",
   "metadata": {},
   "source": [
    "\n",
    "---\n",
    "\n",
    "### Exercise 13:\n",
    "Calculate the mean, median, and standard deviation of a NumPy array.\n"
   ]
  },
  {
   "cell_type": "code",
   "execution_count": 55,
   "id": "95e57182",
   "metadata": {},
   "outputs": [
    {
     "name": "stdout",
     "output_type": "stream",
     "text": [
      "Mean:  5.0\n",
      "Median:  5.5\n",
      "Standard deviation:  2.7688746209726918\n"
     ]
    }
   ],
   "source": [
    "# Exercise 13\n",
    "cal_arr=np.array([1,2,5,6,7,9])\n",
    "mean=np.mean(cal_arr)\n",
    "median=np.median(cal_arr)\n",
    "standard_deviation=np.std(cal_arr)\n",
    "print(\"Mean: \",mean)\n",
    "print(\"Median: \",median)\n",
    "print(\"Standard deviation: \",standard_deviation)"
   ]
  },
  {
   "cell_type": "markdown",
   "id": "67a4fdbd",
   "metadata": {},
   "source": [
    "\n",
    "---\n",
    "\n",
    "### Exercise 14:\n",
    "Find the maximum and minimum values in a NumPy array.\n"
   ]
  },
  {
   "cell_type": "code",
   "execution_count": 3,
   "id": "7959c765",
   "metadata": {},
   "outputs": [
    {
     "name": "stdout",
     "output_type": "stream",
     "text": [
      "Maximum: 10\n",
      "Minimum: 2\n"
     ]
    }
   ],
   "source": [
    "# Exercise 14\n",
    "_array = np.array([5, 10, 3, 8, 2])\n",
    "max_val = np.max(_array)\n",
    "min_val = np.min(_array)\n",
    "\n",
    "print(\"Maximum:\", max_val)\n",
    "print(\"Minimum:\", min_val)"
   ]
  },
  {
   "cell_type": "markdown",
   "id": "8a705cd1",
   "metadata": {},
   "source": [
    "\n",
    "---\n",
    "\n",
    "### Exercise 15:\n",
    "Create a NumPy array of 20 random integers and find the index of the maximum value.\n"
   ]
  },
  {
   "cell_type": "code",
   "execution_count": 4,
   "id": "c6748d73",
   "metadata": {},
   "outputs": [
    {
     "name": "stdout",
     "output_type": "stream",
     "text": [
      "Array: [15 85 68 87 81 55 18 40 63 19 96 91 32 96 75 44 19 27 20 43]\n",
      "Index of Max Value: 10\n"
     ]
    }
   ],
   "source": [
    "# Exercise 15\n",
    "arr_ = np.random.randint(1, 100, size=20)\n",
    "max_index = np.argmax(arr_ )\n",
    "\n",
    "print(\"Array:\", arr_ )\n",
    "print(\"Index of Max Value:\", max_index)"
   ]
  },
  {
   "cell_type": "markdown",
   "id": "467ca6ac",
   "metadata": {},
   "source": [
    "\n",
    "---\n",
    "\n",
    "### Exercise 16:\n",
    "Create a NumPy array and reverse its elements.\n"
   ]
  },
  {
   "cell_type": "code",
   "execution_count": null,
   "id": "0a178eb6",
   "metadata": {},
   "outputs": [],
   "source": [
    "# Exercise 16\n",
    "array = np.array([1, 2, 3, 4, 5])\n",
    "reversed_array = array[::-1]\n",
    "\n",
    "reversed_array = array[::-1]\n",
    "\n",
    "print(\"Reversed Array:\", reversed_array)"
   ]
  },
  {
   "cell_type": "markdown",
   "id": "b7d8ec92",
   "metadata": {},
   "source": [
    "\n",
    "---\n",
    "\n",
    "### Exercise 17:\n",
    "Create a 3x3 matrix and multiply it element-wise by another 3x3 matrix.\n"
   ]
  },
  {
   "cell_type": "code",
   "execution_count": 5,
   "id": "847ddc05",
   "metadata": {},
   "outputs": [
    {
     "name": "stdout",
     "output_type": "stream",
     "text": [
      "Matrix A:\n",
      " [[8 8 8]\n",
      " [6 2 1]\n",
      " [8 5 4]]\n",
      "Matrix B:\n",
      " [[8 6 2]\n",
      " [7 8 5]\n",
      " [5 6 9]]\n",
      "Element-wise Multiplication:\n",
      " [[64 48 16]\n",
      " [42 16  5]\n",
      " [40 30 36]]\n"
     ]
    }
   ],
   "source": [
    "# Exercise 17\n",
    "a = np.random.randint(1, 10, (3, 3))\n",
    "b = np.random.randint(1, 10, (3, 3))\n",
    "result = a * b\n",
    "\n",
    "print(\"Matrix A:\\n\", a)\n",
    "print(\"Matrix B:\\n\", b)\n",
    "print(\"Element-wise Multiplication:\\n\", result)"
   ]
  },
  {
   "cell_type": "markdown",
   "id": "58512446",
   "metadata": {},
   "source": [
    "\n",
    "---\n",
    "\n",
    "### Exercise 18:\n",
    "Create a diagonal matrix from a given 1D array.\n"
   ]
  },
  {
   "cell_type": "code",
   "execution_count": 6,
   "id": "bd7e9321",
   "metadata": {},
   "outputs": [
    {
     "name": "stdout",
     "output_type": "stream",
     "text": [
      "Diagonal Matix:\n",
      " [[1 0 0 0]\n",
      " [0 2 0 0]\n",
      " [0 0 3 0]\n",
      " [0 0 0 4]]\n"
     ]
    }
   ],
   "source": [
    "# Exercise \n",
    "array = np.array([1, 2, 3, 4])\n",
    "diagonal_matrix = np.diag(array)\n",
    "\n",
    "print(\"Diagonal Matix:\\n\", diagonal_matrix)"
   ]
  },
  {
   "cell_type": "markdown",
   "id": "10be19e0",
   "metadata": {},
   "source": [
    "\n",
    "---\n",
    "\n",
    "### Exercise 19:\n",
    "Perform matrix multiplication on two 2D NumPy arrays.\n"
   ]
  },
  {
   "cell_type": "code",
   "execution_count": null,
   "id": "c287973c",
   "metadata": {},
   "outputs": [],
   "source": [
    "# Exercise 19\n",
    "a = np.array([[1, 2], [3, 4]])\n",
    "b = np.array([[5, 6], [7, 8]])\n",
    "result = np.dot(a, b)\n",
    "\n",
    "print(\"Matrix Multiplication:\\n\", result)"
   ]
  },
  {
   "cell_type": "markdown",
   "id": "932aa100",
   "metadata": {},
   "source": [
    "\n",
    "---\n",
    "\n",
    "### Exercise 20:\n",
    "Flatten a 2D NumPy array into a 1D array.\n"
   ]
  },
  {
   "cell_type": "code",
   "execution_count": 7,
   "id": "0b2a7505",
   "metadata": {},
   "outputs": [
    {
     "name": "stdout",
     "output_type": "stream",
     "text": [
      "Flatened Array: [1 2 3 4]\n"
     ]
    }
   ],
   "source": [
    "# Exercise 20\n",
    "matrix = np.array([[1, 2], [3, 4]])\n",
    "flatened = matrix.flatten()\n",
    "print(\"Flatened Array:\", flatened)"
   ]
  },
  {
   "cell_type": "markdown",
   "id": "43e4204e",
   "metadata": {},
   "source": [
    "\n",
    "---\n",
    "\n",
    "### Exercise 21:\n",
    "Stack two NumPy arrays vertically.\n"
   ]
  },
  {
   "cell_type": "code",
   "execution_count": 9,
   "id": "2fab6ed6",
   "metadata": {},
   "outputs": [
    {
     "data": {
      "text/plain": [
       "array([[1, 2],\n",
       "       [3, 4],\n",
       "       [5, 6],\n",
       "       [7, 8]])"
      ]
     },
     "execution_count": 9,
     "metadata": {},
     "output_type": "execute_result"
    }
   ],
   "source": [
    "# Exercise 21\n",
    "a21 = np.array([[1, 2], [3, 4]])\n",
    "b21 = np.array([[5, 6], [7, 8]])\n",
    "vert_stack = np.vstack((a21, b21))\n",
    "vert_stack"
   ]
  },
  {
   "cell_type": "markdown",
   "id": "54a62aed",
   "metadata": {},
   "source": [
    "\n",
    "---\n",
    "\n",
    "### Exercise 22:\n",
    "Stack two NumPy arrays horizontally.\n"
   ]
  },
  {
   "cell_type": "code",
   "execution_count": 10,
   "id": "38c62fcb",
   "metadata": {},
   "outputs": [
    {
     "data": {
      "text/plain": [
       "array([[1, 2, 5, 6],\n",
       "       [3, 4, 7, 8]])"
      ]
     },
     "execution_count": 10,
     "metadata": {},
     "output_type": "execute_result"
    }
   ],
   "source": [
    "# Exercise 22\n",
    "hori_stack = np.hstack((a21, b21))\n",
    "hori_stack"
   ]
  },
  {
   "cell_type": "markdown",
   "id": "348ee442",
   "metadata": {},
   "source": [
    "\n",
    "---\n",
    "\n",
    "### Exercise 23:\n",
    "Split a NumPy array into multiple sub-arrays.\n"
   ]
  },
  {
   "cell_type": "code",
   "execution_count": 11,
   "id": "bb591997",
   "metadata": {},
   "outputs": [
    {
     "data": {
      "text/plain": [
       "[array([0, 1, 2, 3]), array([4, 5, 6]), array([7, 8, 9])]"
      ]
     },
     "execution_count": 11,
     "metadata": {},
     "output_type": "execute_result"
    }
   ],
   "source": [
    "# Exercise 23\n",
    "array23 = np.arange(10)\n",
    "split_array = np.array_split(array23, 3)\n",
    "split_array"
   ]
  },
  {
   "cell_type": "markdown",
   "id": "b1f38f5f",
   "metadata": {},
   "source": [
    "\n",
    "---\n",
    "\n",
    "### Exercise 24:\n",
    "Generate a random NumPy array and round each element to two decimal places.\n"
   ]
  },
  {
   "cell_type": "code",
   "execution_count": 12,
   "id": "9627a34c",
   "metadata": {},
   "outputs": [
    {
     "data": {
      "text/plain": [
       "array([[0.06, 0.75, 0.67],\n",
       "       [0.59, 0.19, 0.12],\n",
       "       [0.65, 0.3 , 0.25]])"
      ]
     },
     "execution_count": 12,
     "metadata": {},
     "output_type": "execute_result"
    }
   ],
   "source": [
    "# Exercise 24\n",
    "random_array24 = np.random.rand(3, 3)\n",
    "rounded_array = np.round(random_array24, 2)\n",
    "rounded_array"
   ]
  },
  {
   "cell_type": "markdown",
   "id": "33eff49a",
   "metadata": {},
   "source": [
    "\n",
    "---\n",
    "\n",
    "### Exercise 25:\n",
    "Find the unique elements of a NumPy array.\n"
   ]
  },
  {
   "cell_type": "code",
   "execution_count": null,
   "id": "820d6014",
   "metadata": {},
   "outputs": [],
   "source": [
    "# Exercise 25\n",
    "array25 = np.array([1, 2, 2, 3, 4, 4, 5])\n",
    "unique_elements = np.unique(array25)\n",
    "unique_elements"
   ]
  },
  {
   "cell_type": "markdown",
   "id": "a82dfd26",
   "metadata": {},
   "source": [
    "\n",
    "---\n",
    "\n",
    "### Exercise 26:\n",
    "Replace all elements in a NumPy array that are less than a specific value with that value.\n"
   ]
  },
  {
   "cell_type": "code",
   "execution_count": null,
   "id": "9317d8ff",
   "metadata": {},
   "outputs": [],
   "source": [
    "# Exercise 26\n",
    "array26 = np.array([2, 5, 3, 8, 1])\n",
    "array26[array26 < 4] = 4\n"
   ]
  },
  {
   "cell_type": "markdown",
   "id": "0b211e1c",
   "metadata": {},
   "source": [
    "\n",
    "---\n",
    "\n",
    "### Exercise 27:\n",
    "Find the cumulative sum of the elements in a NumPy array.\n"
   ]
  },
  {
   "cell_type": "code",
   "execution_count": 13,
   "id": "d03b7264",
   "metadata": {},
   "outputs": [
    {
     "data": {
      "text/plain": [
       "array([ 1,  3,  6, 10])"
      ]
     },
     "execution_count": 13,
     "metadata": {},
     "output_type": "execute_result"
    }
   ],
   "source": [
    "# Exercise 27\n",
    "array_27 = np.array([1, 2, 3, 4])\n",
    "cumulative_sum = np.cumsum(array_27)\n",
    "cumulative_sum"
   ]
  },
  {
   "cell_type": "markdown",
   "id": "837642b7",
   "metadata": {},
   "source": [
    "\n",
    "---\n",
    "\n",
    "### Exercise 28:\n",
    "Create a NumPy array and find the number of non-zero elements in it.\n"
   ]
  },
  {
   "cell_type": "code",
   "execution_count": 14,
   "id": "fa2565c6",
   "metadata": {},
   "outputs": [
    {
     "data": {
      "text/plain": [
       "3"
      ]
     },
     "execution_count": 14,
     "metadata": {},
     "output_type": "execute_result"
    }
   ],
   "source": [
    "# Exercise 28\n",
    "array28 = np.array([0, 1, 2, 0, 4])\n",
    "nonzero_count = np.count_nonzero(array28)\n",
    "nonzero_count "
   ]
  },
  {
   "cell_type": "markdown",
   "id": "7d1f3704",
   "metadata": {},
   "source": [
    "\n",
    "---\n",
    "\n",
    "### Exercise 29:\n",
    "Create a NumPy array of random integers and sort it in ascending order.\n"
   ]
  },
  {
   "cell_type": "code",
   "execution_count": null,
   "id": "dfa23a6e",
   "metadata": {},
   "outputs": [],
   "source": [
    "# Exercise 29\n",
    "array29 = np.random.randint(1, 100, 10)\n",
    "sorted_array = np.sort(array29)"
   ]
  },
  {
   "cell_type": "markdown",
   "id": "295b7ea8",
   "metadata": {},
   "source": [
    "\n",
    "---\n",
    "\n",
    "### Exercise 30:\n",
    "Find the row-wise and column-wise sum of a 3x3 matrix.\n"
   ]
  },
  {
   "cell_type": "code",
   "execution_count": 15,
   "id": "963df701",
   "metadata": {},
   "outputs": [
    {
     "name": "stdout",
     "output_type": "stream",
     "text": [
      "row-wise [ 6 15 16]\n",
      "column-wise [12 15 10]\n"
     ]
    }
   ],
   "source": [
    "# Exercise 30\n",
    "matrix30 = np.array([[1, 2, 3], [4, 5, 6], [7, 8, 1]])\n",
    "row_sum = matrix30.sum(axis=1)\n",
    "col_sum = matrix30.sum(axis=0)\n",
    "print('row-wise',row_sum)\n",
    "print('column-wise',col_sum)"
   ]
  },
  {
   "cell_type": "markdown",
   "id": "158756fa",
   "metadata": {},
   "source": [
    "\n",
    "---\n",
    "\n",
    "### Exercise 31:\n",
    "Generate a 2D NumPy array with random values and normalize it (scale the values between 0 and 1).\n"
   ]
  },
  {
   "cell_type": "code",
   "execution_count": 16,
   "id": "32ba8b29",
   "metadata": {},
   "outputs": [
    {
     "data": {
      "text/plain": [
       "array([[0.28025463, 0.28777434, 0.68793716],\n",
       "       [0.        , 1.        , 0.86344731],\n",
       "       [0.24018044, 0.01081017, 0.77297608]])"
      ]
     },
     "execution_count": 16,
     "metadata": {},
     "output_type": "execute_result"
    }
   ],
   "source": [
    "# Exercise 31\n",
    "array31 = np.random.rand(3, 3)\n",
    "normalized_array = (array31 - np.min(array31)) / (np.max(array31) - np.min(array31))\n",
    "normalized_array"
   ]
  },
  {
   "cell_type": "markdown",
   "id": "d3eeceaa",
   "metadata": {},
   "source": [
    "\n",
    "---\n",
    "\n",
    "### Exercise 32:\n",
    "Create two NumPy arrays and find the dot product.\n"
   ]
  },
  {
   "cell_type": "code",
   "execution_count": null,
   "id": "5722e16b",
   "metadata": {},
   "outputs": [],
   "source": [
    "# Exercise 32\n",
    "a32 = np.array([1, 2])\n",
    "b32 = np.array([3, 4])\n",
    "dot_product = np.dot(a32, b32)\n",
    "dot_product"
   ]
  },
  {
   "cell_type": "markdown",
   "id": "5b0c848f",
   "metadata": {},
   "source": [
    "\n",
    "---\n",
    "\n",
    "### Exercise 33:\n",
    "Find the trace of a square NumPy matrix.\n"
   ]
  },
  {
   "cell_type": "code",
   "execution_count": 17,
   "id": "6d6e90c2",
   "metadata": {},
   "outputs": [
    {
     "data": {
      "text/plain": [
       "5"
      ]
     },
     "execution_count": 17,
     "metadata": {},
     "output_type": "execute_result"
    }
   ],
   "source": [
    "# Exercise 33\n",
    "matrix33 = np.array([[1, 2], [3, 4]])\n",
    "trace_value = np.trace(matrix33)\n",
    "trace_value"
   ]
  },
  {
   "cell_type": "markdown",
   "id": "74f1f77e",
   "metadata": {},
   "source": [
    "\n",
    "---\n",
    "\n",
    "### Exercise 34:\n",
    "Create a 2D array and swap two rows.\n"
   ]
  },
  {
   "cell_type": "code",
   "execution_count": 18,
   "id": "24621129",
   "metadata": {},
   "outputs": [
    {
     "data": {
      "text/plain": [
       "array([[5, 6],\n",
       "       [3, 4],\n",
       "       [1, 2]])"
      ]
     },
     "execution_count": 18,
     "metadata": {},
     "output_type": "execute_result"
    }
   ],
   "source": [
    "# Exercise 34\n",
    "matrix34 = np.array([[1, 2], [3, 4], [5, 6]])\n",
    "matrix34[[0, 2]] = matrix34[[2, 0]]\n",
    "matrix34"
   ]
  },
  {
   "cell_type": "markdown",
   "id": "7875d348",
   "metadata": {},
   "source": [
    "\n",
    "---\n",
    "\n",
    "### Exercise 35:\n",
    "Create a 1D NumPy array and convert it into a column vector.\n"
   ]
  },
  {
   "cell_type": "code",
   "execution_count": null,
   "id": "0039acda",
   "metadata": {},
   "outputs": [],
   "source": [
    "# Exercise 35\n",
    "array35 = np.array([1, 2, 3, 4])\n",
    "column_vector = array35.reshape(-1, 1)\n",
    "column_vector"
   ]
  },
  {
   "cell_type": "markdown",
   "id": "234e605c",
   "metadata": {},
   "source": [
    "\n",
    "---\n",
    "\n",
    "### Exercise 36:\n",
    "Find the determinant of a 3x3 matrix.\n"
   ]
  },
  {
   "cell_type": "code",
   "execution_count": null,
   "id": "9798d9c7",
   "metadata": {},
   "outputs": [],
   "source": [
    "# Exercise 36\n",
    "matrix36 = np.array([[1, 2, 3], [0, 1, 4], [5, 6, 0]])\n",
    "determinant = np.linalg.det(matrix36)"
   ]
  },
  {
   "cell_type": "markdown",
   "id": "6656af00",
   "metadata": {},
   "source": [
    "\n",
    "---\n",
    "\n",
    "### Exercise 37:\n",
    "Find the eigenvalues and eigenvectors of a 2x2 matrix.\n"
   ]
  },
  {
   "cell_type": "code",
   "execution_count": 19,
   "id": "89d64421",
   "metadata": {},
   "outputs": [
    {
     "data": {
      "text/plain": [
       "(array([2., 3.]),\n",
       " array([[1., 0.],\n",
       "        [0., 1.]]))"
      ]
     },
     "execution_count": 19,
     "metadata": {},
     "output_type": "execute_result"
    }
   ],
   "source": [
    "# Exercise 37\n",
    "matrix37 = np.array([[2, 0], [0, 3]])\n",
    "eigenvalues, eigenvectors = np.linalg.eig(matrix37)\n",
    "eigenvalues, eigenvectors"
   ]
  },
  {
   "cell_type": "markdown",
   "id": "7dc92bbb",
   "metadata": {},
   "source": [
    "\n",
    "---\n",
    "\n",
    "### Exercise 38:\n",
    "Solve a system of linear equations using NumPy.\n"
   ]
  },
  {
   "cell_type": "code",
   "execution_count": null,
   "id": "9aad2d7e",
   "metadata": {},
   "outputs": [],
   "source": [
    "# Exercise 38\n",
    "A38 = np.array([[2, 3], [3, 4]])\n",
    "b38 = np.array([8, 11])\n",
    "solution = np.linalg.solve(A38, b38)\n",
    "solution"
   ]
  },
  {
   "cell_type": "markdown",
   "id": "4f146ae7",
   "metadata": {},
   "source": [
    "\n",
    "---\n",
    "\n",
    "### Exercise 39:\n",
    "Add Gaussian noise to a NumPy array.\n"
   ]
  },
  {
   "cell_type": "code",
   "execution_count": 20,
   "id": "1162c82d",
   "metadata": {},
   "outputs": [
    {
     "data": {
      "text/plain": [
       "array([1.03783772, 2.06458776, 3.03502347, 4.04174483, 5.25241761])"
      ]
     },
     "execution_count": 20,
     "metadata": {},
     "output_type": "execute_result"
    }
   ],
   "source": [
    "# Exercise 39\n",
    "array39 = np.array([1, 2, 3, 4, 5])\n",
    "noise = np.random.normal(0, 0.1, array39.shape)\n",
    "noisy_array = array39 + noise\n",
    "noisy_array"
   ]
  },
  {
   "cell_type": "markdown",
   "id": "24f6d12f",
   "metadata": {},
   "source": [
    "\n",
    "---\n",
    "\n",
    "### Exercise 40:\n",
    "Create a 4x4 matrix and extract the diagonal elements.\n"
   ]
  },
  {
   "cell_type": "code",
   "execution_count": null,
   "id": "228d823c",
   "metadata": {},
   "outputs": [],
   "source": [
    "# Exercise 40\n",
    "matrix40 = np.random.randint(1, 10, (4, 4))\n",
    "diagonal_elements = np.diag(matrix40)"
   ]
  },
  {
   "cell_type": "markdown",
   "id": "6fe4e0e1",
   "metadata": {},
   "source": [
    "\n",
    "---\n",
    "\n",
    "### Exercise 41:\n",
    "Generate a NumPy array of 100 random values and clip the values to a range between 10 and 50.\n"
   ]
  },
  {
   "cell_type": "code",
   "execution_count": null,
   "id": "250c818c",
   "metadata": {},
   "outputs": [],
   "source": [
    "# Exercise 41\n",
    "array41 = np.random.randint(0, 100, 100)\n",
    "clipped_array = np.clip(array41, 10, 50)\n",
    "print(\"Exercise 41:\", clipped_array)"
   ]
  },
  {
   "cell_type": "markdown",
   "id": "0aa4963a",
   "metadata": {},
   "source": [
    "\n",
    "---\n",
    "\n",
    "### Exercise 42:\n",
    "Create a 2D NumPy array and replace all negative values with zero.\n"
   ]
  },
  {
   "cell_type": "code",
   "execution_count": null,
   "id": "c33cf5e2",
   "metadata": {},
   "outputs": [],
   "source": [
    "# Exercise 42\n",
    "rray42 = np.random.randn(3, 3)\n",
    "array42[array42 < 0] = 0\n",
    "print(\"Exercise 42:\", array42)"
   ]
  },
  {
   "cell_type": "markdown",
   "id": "9902ee70",
   "metadata": {},
   "source": [
    "\n",
    "---\n",
    "\n",
    "### Exercise 43:\n",
    "Find the inner and outer products of two NumPy arrays.\n"
   ]
  },
  {
   "cell_type": "code",
   "execution_count": null,
   "id": "36f488c8",
   "metadata": {},
   "outputs": [],
   "source": [
    "# Exercise 43\n",
    "a43 = np.array([1, 2, 3])\n",
    "b43 = np.array([4, 5, 6])\n",
    "inner = np.inner(a43, b43)\n",
    "outer = np.outer(a43, b43)\n",
    "print(\"Exercise 43 - Inner:\", inner)\n",
    "print(\"Exercise 43 - Outer:\\n\", outer)"
   ]
  },
  {
   "cell_type": "markdown",
   "id": "7dce9fa3",
   "metadata": {},
   "source": [
    "\n",
    "---\n",
    "\n",
    "### Exercise 44:\n",
    "Calculate the pairwise distances between points in a NumPy array.\n"
   ]
  },
  {
   "cell_type": "code",
   "execution_count": null,
   "id": "94067655",
   "metadata": {},
   "outputs": [],
   "source": [
    "# Exercise 44\n",
    "points44 = np.random.rand(4, 2)\n",
    "pairwise_distances = squareform(pdist(points44))\n",
    "print(\"Exercise 44:\\n\", pairwise_distances)"
   ]
  },
  {
   "cell_type": "markdown",
   "id": "d4b272d3",
   "metadata": {},
   "source": [
    "\n",
    "---\n",
    "\n",
    "### Exercise 45:\n",
    "Create a structured NumPy array with fields for `name`, `age`, and `height`.\n"
   ]
  },
  {
   "cell_type": "code",
   "execution_count": null,
   "id": "9b18e4f0",
   "metadata": {},
   "outputs": [],
   "source": [
    "# Exercise 45\n",
    "dtype45 = [('name', 'U10'), ('age', 'i4'), ('height', 'f4')]\n",
    "data45 = np.array([('Alice', 25, 5.5), ('Bob', 30, 6.1)], dtype=dtype45)\n",
    "print(\"Exercise 45:\\n\", data45)"
   ]
  },
  {
   "cell_type": "markdown",
   "id": "577f3e80",
   "metadata": {},
   "source": [
    "\n",
    "---\n",
    "\n",
    "### Exercise 46:\n",
    "Create a 5x5 matrix of random integers and count the occurrences of each unique value.\n"
   ]
  },
  {
   "cell_type": "code",
   "execution_count": null,
   "id": "639b01fd",
   "metadata": {},
   "outputs": [],
   "source": [
    "# Exercise 46\n",
    "matrix46 = np.random.randint(0, 10, (5, 5))\n",
    "unique_vals, counts = np.unique(matrix46, return_counts=True)\n",
    "print(\"Exercise 46 - Matrix:\\n\", matrix46)\n",
    "print(\"Unique values:\", unique_vals)\n",
    "print(\"Counts:\", counts)"
   ]
  },
  {
   "cell_type": "markdown",
   "id": "e716555f",
   "metadata": {},
   "source": [
    "\n",
    "---\n",
    "\n",
    "### Exercise 47:\n",
    "Generate a random 3x3 NumPy array and subtract the mean of each row from the corresponding row.\n"
   ]
  },
  {
   "cell_type": "code",
   "execution_count": null,
   "id": "03747d27",
   "metadata": {},
   "outputs": [],
   "source": [
    "# Exercise 47\n",
    "matrix47 = np.random.rand(3, 3)\n",
    "row_mean = matrix47.mean(axis=1, keepdims=True)\n",
    "normalized_rows = matrix47 - row_mean\n",
    "print(\"Exercise 47:\\n\", normalized_rows)"
   ]
  },
  {
   "cell_type": "markdown",
   "id": "89148fb1",
   "metadata": {},
   "source": [
    "\n",
    "---\n",
    "\n",
    "### Exercise 48:\n",
    "Create a NumPy array of random integers and check if any of the values are greater than 50.\n"
   ]
  },
  {
   "cell_type": "code",
   "execution_count": null,
   "id": "d329ca63",
   "metadata": {},
   "outputs": [],
   "source": [
    "# Exercise 48\n",
    "array48 = np.random.randint(0, 100, 10)\n",
    "any_above_50 = np.any(array48 > 50)\n",
    "print(\"Exercise 48 - Array:\", array48)\n",
    "print(\"Any above 50?\", any_above_50)"
   ]
  },
  {
   "cell_type": "markdown",
   "id": "806622f5",
   "metadata": {},
   "source": [
    "\n",
    "---\n",
    "\n",
    "### Exercise 49:\n",
    "Calculate the moving average of a 1D NumPy array.\n"
   ]
  },
  {
   "cell_type": "code",
   "execution_count": null,
   "id": "866232ff",
   "metadata": {},
   "outputs": [],
   "source": [
    "# Exercise 49\n",
    "array49 = np.arange(10)\n",
    "window_size = 3\n",
    "moving_avg = np.convolve(array49, np.ones(window_size)/window_size, mode='valid')\n",
    "print(\"Exercise 49 - Moving average:\", moving_avg)"
   ]
  },
  {
   "cell_type": "markdown",
   "id": "9313446b",
   "metadata": {},
   "source": [
    "\n",
    "---\n",
    "\n",
    "### Exercise 50:\n",
    "Find the Pearson correlation coefficient between two NumPy arrays.\n"
   ]
  },
  {
   "cell_type": "code",
   "execution_count": null,
   "id": "09c184ab",
   "metadata": {},
   "outputs": [],
   "source": [
    "# Exercise 50\n",
    "x50 = np.random.rand(10)\n",
    "y50 = np.random.rand(10)\n",
    "correlation_matrix = np.corrcoef(x50, y50)\n",
    "print(\"Exercise 50 - Pearson correlation:\\n\", correlation_matrix)"
   ]
  },
  {
   "cell_type": "markdown",
   "id": "8ee11395",
   "metadata": {},
   "source": [
    "\n",
    "---\n",
    "\n",
    "### Exercise 51:\n",
    "Convert a NumPy array of radians to degrees.\n"
   ]
  },
  {
   "cell_type": "code",
   "execution_count": null,
   "id": "34ac5b8c",
   "metadata": {},
   "outputs": [],
   "source": [
    "# Exercise 51\n",
    "radians = np.array([0, np.pi/4, np.pi/2, np.pi])\n",
    "degrees = np.degrees(radians)\n",
    "print(degrees)"
   ]
  },
  {
   "cell_type": "markdown",
   "id": "f4fd9563",
   "metadata": {},
   "source": [
    "\n",
    "---\n",
    "\n",
    "### Exercise 52:\n",
    "Create a random NumPy array and compute its variance and standard deviation.\n"
   ]
  },
  {
   "cell_type": "code",
   "execution_count": null,
   "id": "0559791a",
   "metadata": {},
   "outputs": [],
   "source": [
    "# Exercise 52\n",
    "_arr = np.random.rand(10)\n",
    "variance = np.var(_arr)\n",
    "std_dev = np.std(_arr)\n",
    "print(\"Variance:\", variance)\n",
    "print(\"Standard Deviation:\", std_dev)"
   ]
  },
  {
   "cell_type": "markdown",
   "id": "b5bed93d",
   "metadata": {},
   "source": [
    "\n",
    "---\n",
    "\n",
    "### Exercise 53:\n",
    "Create a 2D NumPy array and find the indices of the maximum values along each axis.\n"
   ]
  },
  {
   "cell_type": "code",
   "execution_count": null,
   "id": "37168529",
   "metadata": {},
   "outputs": [],
   "source": [
    "# Exercise 53\n",
    "array_2d = np.array([[10, 20, 5], [7, 8, 25]])\n",
    "max_indices_axis0 = np.argmax(array_2d, axis=0)\n",
    "max_indices_axis1 = np.argmax(array_2d, axis=1)\n",
    "print(\"Max indices along axis 0:\", max_indices_axis0)\n",
    "print(\"Max indices along axis 1:\", max_indices_axis1)"
   ]
  },
  {
   "cell_type": "markdown",
   "id": "fd672293",
   "metadata": {},
   "source": [
    "\n",
    "---\n",
    "\n",
    "### Exercise 54:\n",
    "Compute the inverse of a 2x2 NumPy matrix.\n"
   ]
  },
  {
   "cell_type": "code",
   "execution_count": null,
   "id": "d9eebfee",
   "metadata": {},
   "outputs": [],
   "source": [
    "# Exercise 54\n",
    "matrix = np.array([[4, 7], [2, 6]])\n",
    "inverse = np.linalg.inv(matrix)\n",
    "print(\"Inverse matrix:\\n\", inverse)"
   ]
  },
  {
   "cell_type": "markdown",
   "id": "d635d87b",
   "metadata": {},
   "source": [
    "\n",
    "---\n",
    "\n",
    "### Exercise 55:\n",
    "Create a NumPy array of 10 random values and standardize it (mean 0, variance 1).\n"
   ]
  },
  {
   "cell_type": "code",
   "execution_count": null,
   "id": "dc8ffa7d",
   "metadata": {},
   "outputs": [],
   "source": [
    "# Exercise 55\n",
    "arr = np.random.rand(10)\n",
    "standardized = (arr - np.mean(arr)) / np.std(arr)\n",
    "print(\"Standardized array:\", standardized)"
   ]
  },
  {
   "cell_type": "markdown",
   "id": "6db1e281",
   "metadata": {},
   "source": [
    "\n",
    "---\n",
    "\n",
    "### Exercise 56:\n",
    "Perform element-wise addition and subtraction on two NumPy arrays.\n"
   ]
  },
  {
   "cell_type": "code",
   "execution_count": null,
   "id": "e8d4d852",
   "metadata": {},
   "outputs": [],
   "source": [
    "# Exercise 56\n",
    "a = np.array([1, 2, 3])\n",
    "b = np.array([4, 5, 6])\n",
    "add = a + b\n",
    "subtract = a - b\n",
    "print(\"Addition:\", add)\n",
    "print(\"Subtraction:\", subtract)"
   ]
  },
  {
   "cell_type": "markdown",
   "id": "843ba956",
   "metadata": {},
   "source": [
    "\n",
    "---\n",
    "\n",
    "### Exercise 57:\n",
    "Create a NumPy array of random values and find the maximum element's index.\n"
   ]
  },
  {
   "cell_type": "code",
   "execution_count": null,
   "id": "e4cbc318",
   "metadata": {},
   "outputs": [],
   "source": [
    "# Exercise 57\n",
    "arr = np.random.rand(10)\n",
    "max_index = np.argmax(arr)\n",
    "print(\"Array:\", arr)\n",
    "print(\"Index of max element:\", max_index)"
   ]
  },
  {
   "cell_type": "markdown",
   "id": "e8356250",
   "metadata": {},
   "source": [
    "\n",
    "---\n",
    "\n",
    "### Exercise 58:\n",
    "Create a 3x3 NumPy array and rotate it by 90 degrees.\n"
   ]
  },
  {
   "cell_type": "code",
   "execution_count": null,
   "id": "f80c6616",
   "metadata": {},
   "outputs": [],
   "source": [
    "# Exercise 58\n",
    "array_3x3 = np.array([[1, 2, 3],\n",
    "                      [4, 5, 6],\n",
    "                      [7, 8, 9]])\n",
    "rotated = np.rot90(array_3x3)\n",
    "print(\"Rotated array:\\n\", rotated)"
   ]
  },
  {
   "cell_type": "markdown",
   "id": "5bdbf96d",
   "metadata": {},
   "source": [
    "\n",
    "---\n",
    "\n",
    "### Exercise 59:\n",
    "Compute the Frobenius norm of a matrix.\n"
   ]
  },
  {
   "cell_type": "code",
   "execution_count": null,
   "id": "bb81b41a",
   "metadata": {},
   "outputs": [],
   "source": [
    "# Exercise 59\n",
    "matrix = np.array([[1, 2], [3, 4]])\n",
    "fro_norm = np.linalg.norm(matrix, 'fro')\n",
    "print(\"Frobenius norm:\", fro_norm)"
   ]
  },
  {
   "cell_type": "markdown",
   "id": "9388b0db",
   "metadata": {},
   "source": [
    "\n",
    "---\n",
    "\n",
    "### Exercise 60:\n",
    "Create a 3D NumPy array and slice out a subarray.\n"
   ]
  },
  {
   "cell_type": "code",
   "execution_count": null,
   "id": "f051d3a2",
   "metadata": {},
   "outputs": [],
   "source": [
    "# Exercise 60\n",
    "array_3d = np.random.randint(1, 10, (3, 3, 3))\n",
    "subarray = array_3d[1:, :2, :2]\n",
    "print(\"Original 3D array:\\n\", array_3d)\n",
    "print(\"Sliced subarray:\\n\", subarray)"
   ]
  },
  {
   "cell_type": "markdown",
   "id": "9cb79001",
   "metadata": {},
   "source": [
    "\n",
    "---"
   ]
  }
 ],
 "metadata": {
  "kernelspec": {
   "display_name": "Python 3 (ipykernel)",
   "language": "python",
   "name": "python3"
  },
  "language_info": {
   "codemirror_mode": {
    "name": "ipython",
    "version": 3
   },
   "file_extension": ".py",
   "mimetype": "text/x-python",
   "name": "python",
   "nbconvert_exporter": "python",
   "pygments_lexer": "ipython3",
   "version": "3.11.7"
  }
 },
 "nbformat": 4,
 "nbformat_minor": 5
}
